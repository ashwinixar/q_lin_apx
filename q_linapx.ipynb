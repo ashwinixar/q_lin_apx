{
 "cells": [
  {
   "cell_type": "code",
   "execution_count": 1,
   "metadata": {},
   "outputs": [],
   "source": [
    "from qiskit import *\n",
    "from qiskit.tools.visualization import plot_histogram\n",
    "import array as arr\n",
    "\n",
    "def good_linapx(_l_x, _l_fx):\n",
    "\tfx = arr.array('d', [14, 4, 13, 1, 2, 15, 11, 8, 3, 10, 6, 12, 5, 9, 0, 7])\n",
    "\tc1 = 0\n",
    "\tc2 = 0\n",
    "\tfor i in range(16):\n",
    "\t\tr1 = 0\n",
    "\t\tr2 = 0\n",
    "\t\tl_x = _l_x\n",
    "\t\tl_fx = _l_fx\n",
    "\t\tx = i\n",
    "\t\tf_x = int(fx[i])\n",
    "\t\twhile x > 0:\n",
    "\t\t\tr1 ^= (x & 1) & (l_x & 1)\n",
    "\t\t\tx >>= 1\n",
    "\t\t\tl_x >>= 1\n",
    "\t\twhile f_x > 0:\n",
    "\t\t\tr2 ^= (f_x & 1) & (l_fx & 1)\n",
    "\t\t\tf_x >>= 1\n",
    "\t\t\tl_fx >>= 1\n",
    "\t\tif r1 == r2:\n",
    "\t\t\tc1 += 1\n",
    "\t\telse:\n",
    "\t\t\tc2 += 1\n",
    "\treturn (c1 - c2)"
   ]
  },
  {
   "cell_type": "code",
   "execution_count": 2,
   "metadata": {},
   "outputs": [],
   "source": [
    "qr = QuantumRegister(8)\n",
    "circuit = QuantumCircuit(qr)\n",
    "\n",
    "count_trivial = 0\n",
    "count_bad_linapx = 0\n",
    "\n",
    "circuit.h(qr[0])\n",
    "circuit.h(qr[1])\n",
    "circuit.h(qr[2])\n",
    "circuit.h(qr[3])\n",
    "\n",
    "circuit.x(qr[4])\n",
    "circuit.rcccx(qr[0], qr[1], qr[2], qr[4])\n",
    "circuit.rccx(qr[0], qr[1], qr[4])\n",
    "circuit.cx(qr[0], qr[4])\n",
    "circuit.rcccx(qr[1], qr[2], qr[3], qr[4])\n",
    "circuit.rccx(qr[1], qr[2], qr[4])\n",
    "circuit.cx(qr[1], qr[4])\n",
    "circuit.cx(qr[3], qr[4])\n",
    "\n",
    "circuit.x(qr[5])\n",
    "circuit.rcccx(qr[0], qr[2], qr[3], qr[5])\n",
    "circuit.rccx(qr[0], qr[2], qr[5])\n",
    "circuit.cx(qr[0], qr[5])\n",
    "circuit.rccx(qr[1], qr[3], qr[5])\n",
    "circuit.cx(qr[1], qr[5])\n",
    "circuit.rccx(qr[2], qr[3], qr[5])\n",
    "\n",
    "circuit.x(qr[6])\n",
    "circuit.rcccx(qr[0], qr[1], qr[2], qr[6])\n",
    "circuit.rcccx(qr[0], qr[1], qr[3], qr[6])\n",
    "circuit.rccx(qr[0], qr[1], qr[6])\n",
    "circuit.rccx(qr[0], qr[2], qr[6])\n",
    "circuit.rccx(qr[0], qr[3], qr[6])\n",
    "circuit.rccx(qr[1], qr[2], qr[6])\n",
    "circuit.rccx(qr[1], qr[3], qr[6])\n",
    "circuit.rccx(qr[2], qr[3], qr[6])\n",
    "circuit.cx(qr[2], qr[6])\n",
    "circuit.cx(qr[3], qr[6])\n",
    "\n",
    "circuit.rcccx(qr[0], qr[2], qr[3], qr[7])\n",
    "circuit.rccx(qr[0], qr[3], qr[7])\n",
    "circuit.cx(qr[0], qr[7])\n",
    "circuit.rccx(qr[1], qr[3], qr[7])\n",
    "circuit.cx(qr[2], qr[7])\n",
    "\n",
    "circuit.h(qr[0])\n",
    "circuit.h(qr[1])\n",
    "circuit.h(qr[2])\n",
    "circuit.h(qr[3])\n",
    "circuit.h(qr[4])\n",
    "circuit.h(qr[5])\n",
    "circuit.h(qr[6])\n",
    "circuit.h(qr[7])\n",
    "\n",
    "circuit.measure_all()"
   ]
  },
  {
   "cell_type": "code",
   "execution_count": 3,
   "metadata": {},
   "outputs": [],
   "source": [
    "from qiskit import IBMQ\n",
    "IBMQ.save_account('')\n",
    "IBMQ.load_account()\n",
    "provider = IBMQ.get_provider('ibm-q')\n",
    "qcomp = provider.get_backend('ibmq_16_melbourne')"
   ]
  },
  {
   "cell_type": "code",
   "execution_count": 7,
   "metadata": {},
   "outputs": [
    {
     "name": "stdout",
     "output_type": "stream",
     "text": [
      "Job Status: job has successfully run\n"
     ]
    }
   ],
   "source": [
    "job = execute(circuit, backend = qcomp)\n",
    "from qiskit.tools.monitor import job_monitor\n",
    "job_monitor(job)\n",
    "counts = job.result().get_counts()"
   ]
  },
  {
   "cell_type": "code",
   "execution_count": 6,
   "metadata": {},
   "outputs": [
    {
     "name": "stdout",
     "output_type": "stream",
     "text": [
      "Trivial solution occur 8 times\n",
      "Bad linear approximation occur 109 times\n",
      "{'00100011': 1, '10000101': 9, '11111000': 3, '00101111': 1, '00100100': 3, '00001011': 4, '01100111': 2, '11011000': 5, '11111001': 5, '10011011': 9, '10100010': 3, '10000001': 9, '00111001': 5, '11001110': 2, '00101101': 5, '00101110': 4, '00111011': 3, '01110011': 4, '10110111': 3, '00110000': 4, '10011100': 7, '10010011': 3, '10100011': 2, '11001010': 5, '00011101': 10, '01000011': 5, '10011001': 10, '11010000': 6, '00001111': 9, '11100111': 1, '00000001': 17, '01101100': 1, '01011100': 3, '11011001': 6, '11011111': 2, '11101011': 2, '01111110': 1, '11111011': 2, '00101010': 2, '11011110': 2, '10111100': 1, '11100110': 1, '01010011': 6, '10010001': 6, '01011101': 8, '00110101': 2, '11101111': 2, '11001001': 10, '10110011': 1, '10000100': 7, '10011110': 4, '01110101': 2, '00111101': 1, '10011101': 2, '11111100': 1, '01111010': 1, '11000001': 4, '00010100': 8, '11101101': 1, '01110010': 2, '11001000': 4, '00000000': 8, '00100110': 1, '00110010': 4, '01001101': 6, '10100110': 5, '01100001': 3, '10001101': 7, '11010101': 4, '11100011': 1, '11000000': 9, '01110000': 4, '10010100': 7, '00000101': 7, '01101110': 1, '11010011': 2, '00001000': 14, '00001101': 8, '01110110': 1, '10000000': 12, '10011010': 8, '00101001': 7, '01000010': 6, '00010001': 3, '01000101': 6, '01010001': 6, '01101011': 2, '00010000': 8, '10001111': 2, '10111010': 2, '11011010': 4, '11101000': 1, '01110111': 1, '01001010': 1, '01000110': 6, '10101111': 5, '10011111': 4, '11100010': 1, '10010010': 3, '01111000': 3, '00111111': 3, '00001100': 4, '00001001': 11, '11000010': 6, '11010100': 6, '01001110': 4, '10000011': 2, '00100010': 2, '01001111': 6, '01001000': 10, '00001010': 6, '10010110': 10, '00111100': 1, '01001011': 1, '01111011': 2, '00011000': 14, '10000010': 8, '00011010': 7, '11100000': 2, '00100111': 3, '11101100': 2, '11110110': 2, '11011011': 2, '11011101': 4, '10111110': 2, '01100000': 1, '11000111': 1, '00110001': 1, '11110000': 3, '11111110': 2, '01010111': 2, '00010110': 9, '00010111': 5, '01010101': 4, '00100001': 1, '10100001': 3, '01100011': 1, '00101000': 4, '01010110': 5, '01101001': 3, '00100000': 3, '11010010': 5, '00001110': 7, '11001011': 3, '11110001': 2, '01100010': 1, '00111010': 5, '10010111': 3, '01011000': 4, '10100101': 2, '11000110': 1, '01000111': 2, '00100101': 1, '10101101': 2, '10001011': 5, '10100111': 4, '11110100': 1, '10010000': 11, '01011001': 4, '00101100': 4, '11010110': 6, '00101011': 1, '11000101': 4, '01110100': 6, '10111111': 2, '11000011': 1, '00010011': 9, '11110011': 1, '01010000': 8, '01010010': 4, '10110110': 2, '00111000': 2, '10110000': 4, '00011110': 6, '01000100': 8, '11001101': 4, '10000110': 9, '00011011': 7, '00000010': 9, '11001100': 1, '01001100': 6, '10001001': 12, '10101001': 2, '00000100': 6, '01101000': 2, '01111101': 2, '10011000': 5, '10111011': 5, '01100100': 4, '10001000': 11, '11101001': 2, '11101010': 1, '00011111': 2, '10111101': 3, '00010101': 11, '01011111': 2, '10111001': 2, '10101000': 6, '10001100': 10, '10101110': 1, '01111111': 2, '01001001': 7, '00011100': 7, '10000111': 8, '11001111': 2, '00011001': 13, '01000001': 7, '10100100': 2, '00000111': 6, '10110101': 1, '00110011': 2, '10110010': 1, '01011010': 4, '01011011': 2, '11010111': 1, '10001010': 7, '00110100': 2, '01010100': 9, '00010010': 11, '10110100': 2, '01000000': 8, '10101010': 1, '11010001': 2, '11000100': 2, '00000011': 7, '10100000': 3, '10111000': 5, '01101101': 1, '10001110': 7, '00000110': 12, '01011110': 7, '11100100': 2, '11011100': 3, '10010101': 7}\n"
     ]
    }
   ],
   "source": [
    "try:\n",
    "\tcount_trivial = counts['{0:08b}'.format(0)]\n",
    "except:\n",
    "\tprint('Trivial solution occurred 0 time')\n",
    "if count_trivial != 0:\n",
    "\tprint('Trivial solution occur ' + str(count_trivial) + ' times')\n",
    "\n",
    "count_bad_linapx = 0\n",
    "for i in range(256):\n",
    "\tif '{0:08b}'.format(i) in counts:\n",
    "\t\toccurs = counts['{0:08b}'.format(i)]\n",
    "\t\tif occurs > 0 and good_linapx((i >> 4), (i & 15)) == 0:\n",
    "\t\t\tcount_bad_linapx += 1\n",
    "\n",
    "print('Bad linear approximation occur ' + str(count_bad_linapx) + ' times')\n",
    "print(counts)"
   ]
  },
  {
   "cell_type": "code",
   "execution_count": null,
   "metadata": {},
   "outputs": [],
   "source": []
  }
 ],
 "metadata": {
  "kernelspec": {
   "display_name": "Python 3",
   "language": "python",
   "name": "python3"
  },
  "language_info": {
   "codemirror_mode": {
    "name": "ipython",
    "version": 3
   },
   "file_extension": ".py",
   "mimetype": "text/x-python",
   "name": "python",
   "nbconvert_exporter": "python",
   "pygments_lexer": "ipython3",
   "version": "3.7.9"
  }
 },
 "nbformat": 4,
 "nbformat_minor": 4
}