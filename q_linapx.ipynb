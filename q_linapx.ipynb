{
 "cells": [
  {
   "cell_type": "code",
   "execution_count": 2,
   "metadata": {},
   "outputs": [],
   "source": [
    "from qiskit import *\n",
    "from qiskit.tools.visualization import plot_histogram\n",
    "import array as arr\n",
    "\n",
    "def good_linapx(_l_x, _l_fx):\n",
    "\tfx = arr.array('d', [14, 4, 13, 1, 2, 15, 11, 8, 3, 10, 6, 12, 5, 9, 0, 7])\n",
    "\tc1 = 0\n",
    "\tc2 = 0\n",
    "\tfor i in range(16):\n",
    "\t\tr1 = 0\n",
    "\t\tr2 = 0\n",
    "\t\tl_x = _l_x\n",
    "\t\tl_fx = _l_fx\n",
    "\t\tx = i\n",
    "\t\tf_x = int(fx[i])\n",
    "\t\twhile x > 0:\n",
    "\t\t\tr1 ^= (x & 1) & (l_x & 1)\n",
    "\t\t\tx >>= 1\n",
    "\t\t\tl_x >>= 1\n",
    "\t\twhile f_x > 0:\n",
    "\t\t\tr2 ^= (f_x & 1) & (l_fx & 1)\n",
    "\t\t\tf_x >>= 1\n",
    "\t\t\tl_fx >>= 1\n",
    "\t\tif r1 == r2:\n",
    "\t\t\tc1 += 1\n",
    "\t\telse:\n",
    "\t\t\tc2 += 1\n",
    "\treturn (c1 - c2)"
   ]
  },
  {
   "cell_type": "code",
   "execution_count": 3,
   "metadata": {},
   "outputs": [],
   "source": [
    "qr = QuantumRegister(8)\n",
    "circuit = QuantumCircuit(qr)\n",
    "\n",
    "count_trivial = 0\n",
    "count_bad_linapx = 0\n",
    "\n",
    "circuit.h(qr[0])\n",
    "circuit.h(qr[1])\n",
    "circuit.h(qr[2])\n",
    "circuit.h(qr[3])\n",
    "\n",
    "circuit.x(qr[4])\n",
    "circuit.rcccx(qr[0], qr[1], qr[2], qr[4])\n",
    "circuit.rccx(qr[0], qr[1], qr[4])\n",
    "circuit.cx(qr[0], qr[4])\n",
    "circuit.rcccx(qr[1], qr[2], qr[3], qr[4])\n",
    "circuit.rccx(qr[1], qr[2], qr[4])\n",
    "circuit.cx(qr[1], qr[4])\n",
    "circuit.cx(qr[3], qr[4])\n",
    "\n",
    "circuit.x(qr[5])\n",
    "circuit.rcccx(qr[0], qr[2], qr[3], qr[5])\n",
    "circuit.rccx(qr[0], qr[2], qr[5])\n",
    "circuit.cx(qr[0], qr[5])\n",
    "circuit.rccx(qr[1], qr[3], qr[5])\n",
    "circuit.cx(qr[1], qr[5])\n",
    "circuit.rccx(qr[2], qr[3], qr[5])\n",
    "\n",
    "circuit.x(qr[6])\n",
    "circuit.rcccx(qr[0], qr[1], qr[2], qr[6])\n",
    "circuit.rcccx(qr[0], qr[1], qr[3], qr[6])\n",
    "circuit.rccx(qr[0], qr[1], qr[6])\n",
    "circuit.rccx(qr[0], qr[2], qr[6])\n",
    "circuit.rccx(qr[0], qr[3], qr[6])\n",
    "circuit.rccx(qr[1], qr[2], qr[6])\n",
    "circuit.rccx(qr[1], qr[3], qr[6])\n",
    "circuit.rccx(qr[2], qr[3], qr[6])\n",
    "circuit.cx(qr[2], qr[6])\n",
    "circuit.cx(qr[3], qr[6])\n",
    "\n",
    "circuit.rcccx(qr[0], qr[2], qr[3], qr[7])\n",
    "circuit.rccx(qr[0], qr[3], qr[7])\n",
    "circuit.cx(qr[0], qr[7])\n",
    "circuit.rccx(qr[1], qr[3], qr[7])\n",
    "circuit.cx(qr[2], qr[7])\n",
    "\n",
    "circuit.h(qr[0])\n",
    "circuit.h(qr[1])\n",
    "circuit.h(qr[2])\n",
    "circuit.h(qr[3])\n",
    "circuit.h(qr[4])\n",
    "circuit.h(qr[5])\n",
    "circuit.h(qr[6])\n",
    "circuit.h(qr[7])\n",
    "\n",
    "circuit.measure_all()"
   ]
  },
  {
   "cell_type": "code",
   "execution_count": 5,
   "metadata": {},
   "outputs": [
    {
     "name": "stderr",
     "output_type": "stream",
     "text": [
      "configrc.store_credentials:WARNING:2020-10-10 17:25:53,045: Credentials already present. Set overwrite=True to overwrite.\n"
     ]
    }
   ],
   "source": [
    "from qiskit import IBMQ\n",
    "IBMQ.save_account('5224513159a81052289555d20e4d70dc6369caac4940fe9edb7f15d54af90dce7260ca75b22cb652ae6ede03a3b50dfc2a59aa57c0246e7cff2ecf0fb1ba48f4')\n",
    "IBMQ.load_account()\n",
    "provider = IBMQ.get_provider('ibm-q')\n",
    "qcomp = provider.get_backend('ibmq_16_melbourne')"
   ]
  },
  {
   "cell_type": "code",
   "execution_count": 8,
   "metadata": {},
   "outputs": [
    {
     "name": "stdout",
     "output_type": "stream",
     "text": [
      "Job Status: job has successfully run\n"
     ]
    }
   ],
   "source": [
    "job = execute(circuit, backend = qcomp)\n",
    "from qiskit.tools.monitor import job_monitor\n",
    "job_monitor(job)\n",
    "counts = job.result().get_counts()"
   ]
  },
  {
   "cell_type": "code",
   "execution_count": 9,
   "metadata": {},
   "outputs": [
    {
     "name": "stdout",
     "output_type": "stream",
     "text": [
      "Trivial solution occur 4 times\n",
      "Bad linear approximation occur 494 times\n",
      "{'00000000': 4, '00001010': 8, '01000001': 9, '01010010': 4, '10000000': 6, '00000111': 4, '01101101': 5, '00010110': 3, '11100011': 3, '01011011': 2, '01100011': 4, '01101111': 7, '00101001': 5, '11011101': 2, '10001100': 10, '01110101': 1, '10111111': 1, '10100011': 8, '00100111': 2, '01100001': 3, '10111100': 1, '00010100': 2, '01001100': 9, '11101000': 5, '10011010': 1, '01001011': 12, '10000011': 6, '01111100': 4, '00001001': 7, '10011101': 1, '11101001': 3, '00011110': 1, '00111000': 1, '10001011': 2, '01111001': 3, '00111101': 3, '10101110': 1, '11000011': 10, '10101000': 3, '01110001': 1, '01110111': 1, '11011011': 4, '10010111': 1, '10101011': 4, '01101100': 6, '11000110': 5, '00011101': 1, '01101110': 5, '11111010': 2, '01001010': 8, '00100101': 6, '00110101': 3, '01100010': 7, '00001111': 6, '10001000': 7, '00011100': 3, '01000100': 9, '01111110': 1, '01100111': 3, '01010111': 3, '01111111': 3, '11000010': 6, '01100110': 4, '00001110': 9, '11010111': 1, '01001001': 9, '11011001': 6, '00110100': 3, '10110101': 3, '00001100': 10, '11111000': 1, '00101110': 2, '00100000': 6, '00000110': 3, '11001011': 6, '11001001': 8, '01010011': 1, '10110011': 2, '00110000': 1, '10100010': 3, '01110011': 2, '01101000': 8, '01001110': 11, '00010010': 3, '11100010': 5, '01110010': 3, '11110100': 1, '00111010': 1, '10111000': 2, '00111100': 1, '11010011': 3, '11001110': 6, '00011011': 2, '00101010': 5, '10011100': 1, '00001011': 11, '11000101': 3, '11101011': 3, '11001010': 10, '01000111': 6, '11101101': 2, '01110000': 1, '11110010': 4, '00011000': 3, '10101010': 7, '11000001': 4, '11100110': 3, '11011100': 2, '00100100': 5, '01111010': 4, '10110111': 2, '00010000': 5, '00110110': 2, '10001110': 4, '11110001': 1, '10010101': 5, '10010110': 5, '10100100': 3, '00111111': 2, '01011111': 2, '10000110': 8, '10111110': 1, '00100001': 4, '01000000': 8, '01101001': 5, '10000001': 9, '10011111': 3, '10100111': 4, '00001101': 13, '00100110': 1, '00001000': 7, '11110110': 1, '11001111': 2, '11010101': 2, '11110000': 1, '00101101': 6, '01010001': 5, '10011011': 2, '00110111': 2, '00100010': 1, '00000001': 11, '10000101': 6, '01011001': 2, '11100111': 3, '00101011': 4, '11011000': 2, '10111101': 2, '10010000': 4, '01010101': 2, '00111011': 1, '10101001': 4, '11001100': 9, '11010100': 3, '01011101': 4, '00100011': 1, '10111001': 3, '11101111': 8, '10001001': 12, '11000000': 11, '11111001': 5, '01011010': 2, '01011110': 3, '01000101': 12, '01110100': 6, '01011100': 3, '01101011': 3, '11010001': 3, '11010010': 1, '11100000': 3, '00000011': 2, '11101100': 3, '10110001': 4, '11100001': 6, '00101100': 5, '10101100': 4, '00011010': 2, '11101010': 4, '11011110': 6, '01010000': 2, '10110110': 3, '01100101': 3, '10101111': 2, '11000111': 8, '11101110': 4, '01000110': 9, '11011111': 1, '00000010': 8, '01100000': 5, '10000111': 3, '10001111': 13, '00101111': 5, '01111011': 1, '10010100': 1, '10100000': 3, '01101010': 9, '01001101': 8, '10011000': 1, '10100110': 2, '01010100': 8, '00010011': 4, '00110010': 3, '01000010': 10, '01111000': 4, '10111011': 2, '10010011': 2, '11100101': 4, '01000011': 10, '10001010': 6, '10000100': 9, '01100100': 2, '11100100': 4, '10011001': 3, '01001111': 8, '00000100': 9, '00011001': 2, '10000010': 7, '00110001': 3, '10001101': 9, '10100001': 8, '11001000': 5, '01001000': 11, '11001101': 8, '10011110': 4, '11010000': 3, '00011111': 5, '00010111': 4, '11000100': 7, '10110010': 3, '01010110': 2, '00010001': 2, '11111101': 2, '10010001': 3, '00000101': 11}\n"
     ]
    }
   ],
   "source": [
    "try:\n",
    "\tcount_trivial = counts['{0:08b}'.format(0)]\n",
    "except:\n",
    "\tprint('Trivial solution occurred 0 time')\n",
    "if count_trivial != 0:\n",
    "\tprint('Trivial solution occur ' + str(count_trivial) + ' times')\n",
    "\n",
    "count_bad_linapx = 0\n",
    "for i in range(256):\n",
    "\tif '{0:08b}'.format(i) in counts:\n",
    "\t\toccurs = counts['{0:08b}'.format(i)]\n",
    "\t\tif occurs > 0 and good_linapx((i >> 4), (i & 15)) == 0:\n",
    "\t\t\tcount_bad_linapx += occurs\n",
    "\n",
    "print('Bad linear approximation occur ' + str(count_bad_linapx) + ' times')\n",
    "print(counts)"
   ]
  },
  {
   "cell_type": "code",
   "execution_count": null,
   "metadata": {},
   "outputs": [],
   "source": []
  }
 ],
 "metadata": {
  "kernelspec": {
   "display_name": "Python 3",
   "language": "python",
   "name": "python3"
  },
  "language_info": {
   "codemirror_mode": {
    "name": "ipython",
    "version": 3
   },
   "file_extension": ".py",
   "mimetype": "text/x-python",
   "name": "python",
   "nbconvert_exporter": "python",
   "pygments_lexer": "ipython3",
   "version": "3.7.9"
  }
 },
 "nbformat": 4,
 "nbformat_minor": 4
}
